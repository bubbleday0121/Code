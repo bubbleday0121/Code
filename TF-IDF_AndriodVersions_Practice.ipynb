{
 "cells": [
  {
   "cell_type": "markdown",
   "id": "53dc69f2",
   "metadata": {},
   "source": [
    "### Install~~~"
   ]
  },
  {
   "cell_type": "code",
   "execution_count": 1,
   "id": "f0790913",
   "metadata": {},
   "outputs": [
    {
     "name": "stdout",
     "output_type": "stream",
     "text": [
      "Requirement already satisfied: nltk in c:\\users\\bubbl\\appdata\\local\\packages\\pythonsoftwarefoundation.python.3.10_qbz5n2kfra8p0\\localcache\\local-packages\\python310\\site-packages (3.9.1)Note: you may need to restart the kernel to use updated packages.\n",
      "\n",
      "Requirement already satisfied: joblib in c:\\users\\bubbl\\appdata\\local\\packages\\pythonsoftwarefoundation.python.3.10_qbz5n2kfra8p0\\localcache\\local-packages\\python310\\site-packages (from nltk) (1.4.2)\n",
      "Requirement already satisfied: regex>=2021.8.3 in c:\\users\\bubbl\\appdata\\local\\packages\\pythonsoftwarefoundation.python.3.10_qbz5n2kfra8p0\\localcache\\local-packages\\python310\\site-packages (from nltk) (2024.11.6)\n",
      "Requirement already satisfied: tqdm in c:\\users\\bubbl\\appdata\\local\\packages\\pythonsoftwarefoundation.python.3.10_qbz5n2kfra8p0\\localcache\\local-packages\\python310\\site-packages (from nltk) (4.67.1)\n",
      "Requirement already satisfied: click in c:\\users\\bubbl\\appdata\\local\\packages\\pythonsoftwarefoundation.python.3.10_qbz5n2kfra8p0\\localcache\\local-packages\\python310\\site-packages (from nltk) (8.1.8)\n",
      "Requirement already satisfied: colorama in c:\\users\\bubbl\\appdata\\local\\packages\\pythonsoftwarefoundation.python.3.10_qbz5n2kfra8p0\\localcache\\local-packages\\python310\\site-packages (from click->nltk) (0.4.6)\n"
     ]
    },
    {
     "name": "stderr",
     "output_type": "stream",
     "text": [
      "\n",
      "[notice] A new release of pip is available: 23.0.1 -> 25.0\n",
      "[notice] To update, run: C:\\Users\\bubbl\\AppData\\Local\\Microsoft\\WindowsApps\\PythonSoftwareFoundation.Python.3.10_qbz5n2kfra8p0\\python.exe -m pip install --upgrade pip\n"
     ]
    }
   ],
   "source": [
    "pip install nltk"
   ]
  },
  {
   "cell_type": "code",
   "execution_count": 2,
   "id": "41ad4f7a",
   "metadata": {},
   "outputs": [
    {
     "name": "stdout",
     "output_type": "stream",
     "text": [
      "Requirement already satisfied: scikit-learn in c:\\users\\bubbl\\appdata\\local\\packages\\pythonsoftwarefoundation.python.3.10_qbz5n2kfra8p0\\localcache\\local-packages\\python310\\site-packages (1.6.1)\n",
      "Requirement already satisfied: joblib>=1.2.0 in c:\\users\\bubbl\\appdata\\local\\packages\\pythonsoftwarefoundation.python.3.10_qbz5n2kfra8p0\\localcache\\local-packages\\python310\\site-packages (from scikit-learn) (1.4.2)\n",
      "Requirement already satisfied: numpy>=1.19.5 in c:\\users\\bubbl\\appdata\\local\\packages\\pythonsoftwarefoundation.python.3.10_qbz5n2kfra8p0\\localcache\\local-packages\\python310\\site-packages (from scikit-learn) (1.24.1)\n",
      "Requirement already satisfied: scipy>=1.6.0 in c:\\users\\bubbl\\appdata\\local\\packages\\pythonsoftwarefoundation.python.3.10_qbz5n2kfra8p0\\localcache\\local-packages\\python310\\site-packages (from scikit-learn) (1.15.1)\n",
      "Requirement already satisfied: threadpoolctl>=3.1.0 in c:\\users\\bubbl\\appdata\\local\\packages\\pythonsoftwarefoundation.python.3.10_qbz5n2kfra8p0\\localcache\\local-packages\\python310\\site-packages (from scikit-learn) (3.5.0)\n",
      "Note: you may need to restart the kernel to use updated packages.\n"
     ]
    },
    {
     "name": "stderr",
     "output_type": "stream",
     "text": [
      "\n",
      "[notice] A new release of pip is available: 23.0.1 -> 25.0\n",
      "[notice] To update, run: C:\\Users\\bubbl\\AppData\\Local\\Microsoft\\WindowsApps\\PythonSoftwareFoundation.Python.3.10_qbz5n2kfra8p0\\python.exe -m pip install --upgrade pip\n"
     ]
    }
   ],
   "source": [
    "pip install scikit-learn"
   ]
  },
  {
   "cell_type": "code",
   "execution_count": 3,
   "id": "6a818704",
   "metadata": {},
   "outputs": [
    {
     "name": "stdout",
     "output_type": "stream",
     "text": [
      "Requirement already satisfied: python-docx in c:\\users\\bubbl\\appdata\\local\\packages\\pythonsoftwarefoundation.python.3.10_qbz5n2kfra8p0\\localcache\\local-packages\\python310\\site-packages (1.1.2)\n",
      "Requirement already satisfied: lxml>=3.1.0 in c:\\users\\bubbl\\appdata\\local\\packages\\pythonsoftwarefoundation.python.3.10_qbz5n2kfra8p0\\localcache\\local-packages\\python310\\site-packages (from python-docx) (5.3.0)\n",
      "Requirement already satisfied: typing-extensions>=4.9.0 in c:\\users\\bubbl\\appdata\\local\\packages\\pythonsoftwarefoundation.python.3.10_qbz5n2kfra8p0\\localcache\\local-packages\\python310\\site-packages (from python-docx) (4.12.2)\n",
      "Note: you may need to restart the kernel to use updated packages.\n"
     ]
    },
    {
     "name": "stderr",
     "output_type": "stream",
     "text": [
      "\n",
      "[notice] A new release of pip is available: 23.0.1 -> 25.0\n",
      "[notice] To update, run: C:\\Users\\bubbl\\AppData\\Local\\Microsoft\\WindowsApps\\PythonSoftwareFoundation.Python.3.10_qbz5n2kfra8p0\\python.exe -m pip install --upgrade pip\n"
     ]
    }
   ],
   "source": [
    "pip install python-docx"
   ]
  },
  {
   "cell_type": "code",
   "execution_count": 4,
   "id": "6e713f3f",
   "metadata": {},
   "outputs": [
    {
     "name": "stdout",
     "output_type": "stream",
     "text": [
      "Requirement already satisfied: requests in c:\\users\\bubbl\\appdata\\local\\packages\\pythonsoftwarefoundation.python.3.10_qbz5n2kfra8p0\\localcache\\local-packages\\python310\\site-packages (2.32.3)\n",
      "Requirement already satisfied: urllib3<3,>=1.21.1 in c:\\users\\bubbl\\appdata\\local\\packages\\pythonsoftwarefoundation.python.3.10_qbz5n2kfra8p0\\localcache\\local-packages\\python310\\site-packages (from requests) (2.3.0)\n",
      "Requirement already satisfied: certifi>=2017.4.17 in c:\\users\\bubbl\\appdata\\local\\packages\\pythonsoftwarefoundation.python.3.10_qbz5n2kfra8p0\\localcache\\local-packages\\python310\\site-packages (from requests) (2025.1.31)\n",
      "Requirement already satisfied: idna<4,>=2.5 in c:\\users\\bubbl\\appdata\\local\\packages\\pythonsoftwarefoundation.python.3.10_qbz5n2kfra8p0\\localcache\\local-packages\\python310\\site-packages (from requests) (3.10)\n",
      "Requirement already satisfied: charset-normalizer<4,>=2 in c:\\users\\bubbl\\appdata\\local\\packages\\pythonsoftwarefoundation.python.3.10_qbz5n2kfra8p0\\localcache\\local-packages\\python310\\site-packages (from requests) (3.4.1)\n",
      "Note: you may need to restart the kernel to use updated packages.\n"
     ]
    },
    {
     "name": "stderr",
     "output_type": "stream",
     "text": [
      "\n",
      "[notice] A new release of pip is available: 23.0.1 -> 25.0\n",
      "[notice] To update, run: C:\\Users\\bubbl\\AppData\\Local\\Microsoft\\WindowsApps\\PythonSoftwareFoundation.Python.3.10_qbz5n2kfra8p0\\python.exe -m pip install --upgrade pip\n"
     ]
    }
   ],
   "source": [
    "pip install requests"
   ]
  },
  {
   "cell_type": "code",
   "execution_count": 5,
   "id": "f2b1833a",
   "metadata": {},
   "outputs": [
    {
     "name": "stdout",
     "output_type": "stream",
     "text": [
      "Requirement already satisfied: beautifulsoup4 in c:\\users\\bubbl\\appdata\\local\\packages\\pythonsoftwarefoundation.python.3.10_qbz5n2kfra8p0\\localcache\\local-packages\\python310\\site-packages (4.12.3)\n",
      "Requirement already satisfied: soupsieve>1.2 in c:\\users\\bubbl\\appdata\\local\\packages\\pythonsoftwarefoundation.python.3.10_qbz5n2kfra8p0\\localcache\\local-packages\\python310\\site-packages (from beautifulsoup4) (2.6)\n",
      "Note: you may need to restart the kernel to use updated packages.\n"
     ]
    },
    {
     "name": "stderr",
     "output_type": "stream",
     "text": [
      "\n",
      "[notice] A new release of pip is available: 23.0.1 -> 25.0\n",
      "[notice] To update, run: C:\\Users\\bubbl\\AppData\\Local\\Microsoft\\WindowsApps\\PythonSoftwareFoundation.Python.3.10_qbz5n2kfra8p0\\python.exe -m pip install --upgrade pip\n"
     ]
    }
   ],
   "source": [
    "pip install beautifulsoup4"
   ]
  },
  {
   "cell_type": "markdown",
   "id": "b962e56a",
   "metadata": {},
   "source": [
    "### 爬蟲"
   ]
  },
  {
   "cell_type": "code",
   "execution_count": null,
   "id": "732495f6",
   "metadata": {},
   "outputs": [
    {
     "name": "stdout",
     "output_type": "stream",
     "text": [
      "🎯 找到目標版本：Android 4.4 KitKat\n",
      "✅ 資料已成功儲存至 C:\\Users\\bubbl\\Desktop\\爬蟲結果\\4.4_features_new.docx\n"
     ]
    }
   ],
   "source": [
    "import requests\n",
    "import os\n",
    "from bs4 import BeautifulSoup\n",
    "from docx import Document\n",
    "\n",
    "# 目標 Wikipedia 頁面\n",
    "url = \"https://en.wikipedia.org/wiki/Android_version_history\"\n",
    "headers = {\"User-Agent\": \"Mozilla/5.0\"}  # 避免被拒絕訪問\n",
    "response = requests.get(url, headers=headers)\n",
    "soup = BeautifulSoup(response.text, \"html.parser\")\n",
    "\n",
    "# ✅ 使用者輸入要抓取的 Android 版本（例如 \"Android 4.4\" 或 \"Android 1.0\"）\n",
    "target_version = input(\"請輸入要抓取的 Android 版本（如 Android 1.0, Android 4.4 等）：\").strip()\n",
    "\n",
    "# 找到所有 \"wikitable\" 表格\n",
    "tables = soup.find_all(\"table\", {\"class\": \"wikitable\"})\n",
    "\n",
    "# 儲存結果\n",
    "android_data = []\n",
    "\n",
    "# 遍歷所有表格\n",
    "for table in tables:\n",
    "    heading = table.find_previous([\"h2\", \"h3\",\"h4\"])  # 找到表格前面的標題\n",
    "    version_title = heading.get_text(strip=True).replace(\"[edit]\", \"\") if heading else \"Unknown Version\"\n",
    "\n",
    "    # ✅ 檢查是否為目標版本\n",
    "    if target_version.lower() in version_title.lower():\n",
    "        print(f\"🎯 找到目標版本：{version_title}\")\n",
    "\n",
    "        rows = table.find_all(\"tr\")\n",
    "        for row in rows[1:]:  # 跳過表頭\n",
    "            cols = row.find_all(\"td\")\n",
    "            if len(cols) >= 3:  # 確保有 Version, Release Date, Features\n",
    "                version = cols[0].get_text(strip=True)\n",
    "                release_date = cols[1].get_text(strip=True)\n",
    "\n",
    "                # 處理 Features 欄位\n",
    "                feature_column = cols[2]\n",
    "                features_list = [li.get_text(strip=True) for li in feature_column.find_all(\"li\")]\n",
    "                if not features_list:\n",
    "                    features_list = [feature_column.get_text(strip=True)]  # 如果沒有 <li>，直接取文字\n",
    "\n",
    "                android_data.append({\n",
    "                    \"Version\": version if version else version_title,\n",
    "                    \"Release Date\": release_date,\n",
    "                    \"Features\": features_list\n",
    "                })\n",
    "        break  # ✅ 找到目標版本後就停止搜尋\n",
    "\n",
    "# ✅ 確認是否找到資料\n",
    "if not android_data:\n",
    "    print(f\"❌ 找不到版本：{target_version}\")\n",
    "else:\n",
    "    # ✅ 將資料儲存成 DOCX 檔案\n",
    "    doc = Document()\n",
    "    doc.add_heading(f\"Android Version: {target_version}\", level=1)\n",
    "\n",
    "    for entry in android_data:\n",
    "        doc.add_heading(f\"Version: {entry['Version']}\", level=2)\n",
    "        doc.add_paragraph(f\"Release Date: {entry['Release Date']}\")\n",
    "        doc.add_paragraph(\"Features:\")\n",
    "\n",
    "        # 以列表形式輸出 Features\n",
    "        for feature in entry[\"Features\"]:\n",
    "            doc.add_paragraph(f\"- {feature}\", style='List Bullet')\n",
    "\n",
    "    # ✅ 設定要存檔的資料夾\n",
    "    save_directory = r\"C:\\Users\\bubbl\\Desktop\\爬蟲結果\"\n",
    "\n",
    "    # ✅ 確保資料夾存在（如果不存在就建立）\n",
    "    os.makedirs(save_directory, exist_ok=True)\n",
    "\n",
    "    # ✅ 產生完整的存檔路徑\n",
    "    file_name = f\"{target_version.replace(' ', '_')}_features_new.docx\"\n",
    "    output_path = os.path.join(save_directory, file_name)  # 👉 設定完整存檔路徑\n",
    "\n",
    "    # ✅ 儲存 DOCX 檔案\n",
    "    doc.save(output_path)\n",
    "\n",
    "    print(f\"✅ 資料已成功儲存至 {output_path}\")"
   ]
  },
  {
   "cell_type": "markdown",
   "id": "eaa17852",
   "metadata": {},
   "source": [
    "### TF-IDF值計算"
   ]
  },
  {
   "cell_type": "markdown",
   "id": "e655f4ab",
   "metadata": {},
   "source": [
    "#### Import"
   ]
  },
  {
   "cell_type": "code",
   "execution_count": 6,
   "id": "261e82bf",
   "metadata": {},
   "outputs": [],
   "source": [
    "import re\n",
    "import pandas as pd\n",
    "import nltk\n",
    "from nltk.corpus import wordnet, stopwords\n",
    "from nltk.stem import WordNetLemmatizer\n",
    "from sklearn.feature_extraction.text import TfidfVectorizer\n",
    "from docx import Document"
   ]
  },
  {
   "cell_type": "markdown",
   "id": "df2b5152",
   "metadata": {},
   "source": [
    "#### Downloads跟初始化字詞"
   ]
  },
  {
   "cell_type": "code",
   "execution_count": 204,
   "id": "f0f90426",
   "metadata": {},
   "outputs": [
    {
     "name": "stderr",
     "output_type": "stream",
     "text": [
      "[nltk_data] Downloading package stopwords to\n",
      "[nltk_data]     C:\\Users\\bubbl\\AppData\\Roaming\\nltk_data...\n",
      "[nltk_data]   Package stopwords is already up-to-date!\n",
      "[nltk_data] Downloading package wordnet to\n",
      "[nltk_data]     C:\\Users\\bubbl\\AppData\\Roaming\\nltk_data...\n",
      "[nltk_data]   Package wordnet is already up-to-date!\n"
     ]
    }
   ],
   "source": [
    "\n",
    "# 下載 NLTK 必要資源（若尚未下載）\n",
    "nltk.download('stopwords')\n",
    "nltk.download('wordnet')\n",
    "\n",
    "# 初始化詞形還原器與停用詞\n",
    "lemmatizer = WordNetLemmatizer()\n",
    "STOP_WORDS = set(stopwords.words('english'))\n",
    "CUSTOM_STOP_WORDS_WHOLE = {\"version\", \"release\", \"date\", \"android\",\"however\",\"etc\",\"instead\",\"wa\",\"ability\",\n",
    "                            \"upload\",\"application\",\"support\",\"introduced\",\"reintroduction\",\"removed\",\"blocked\",\n",
    "                            \"designed\",\"installation\",\"older\",\"new\",\"access\",\"user\",\"fixed\",\"improved\",\n",
    "                            \"change\",\"bug\",\"fix\",\"prevent\",\"marshmallow\",\"amendment\",\"minor\",\"native\",\"improvement\",\"miscellaneous\"}\n",
    "\n",
    "\n",
    "CUSTOM_STOP_WORDS_3      = {\"version\", \"release\", \"date\", \"android\",\"however\",\"etc\",\"instead\",\"wa\",\"ability\",\n",
    "                            \"upload\",\"application\",\"support\",\"introduced\",\"reintroduction\",\"removed\",\"blocked\",\n",
    "                            \"designed\",\"installation\",\"older\",\"new\",\"access\",\"user\",\"fixed\",\"improved\",\n",
    "                            \"system\",\"screen\"}\n",
    "\n",
    "CUSTOM_STOP_WORDS_4_03 = {\"bug\",\"fix\",\"improvement\",\"improved\",\"stability\"}\n",
    "\n",
    "CUSTOM_STOP_WORDS_2_3    = {\"bug\",\"fix\",\"improvement\",\"improved\",\"support\",\"native\",\"user\"}\n",
    "\n",
    "CUSTOM_STOP_WORDS_7      = {\"file\",\"support\",\"ability\",\"application\",\"overview\",\"setting\",\"added\",\"access\",\"redesigned\",\"android\"}\n",
    "\n",
    "\n",
    "ALL_STOP_WORDS = list(STOP_WORDS) + list(CUSTOM_STOP_WORDS_4_03)"
   ]
  },
  {
   "cell_type": "markdown",
   "id": "cedba443",
   "metadata": {},
   "source": [
    "#### 讀取檔案"
   ]
  },
  {
   "cell_type": "code",
   "execution_count": 8,
   "id": "53f649e6",
   "metadata": {},
   "outputs": [],
   "source": [
    "# ✅ Step 1: 讀取 DOCX 檔案，提取 Features 區塊\n",
    "def extract_features_from_docx(file_path):\n",
    "    doc = Document(file_path)\n",
    "    features_list = []\n",
    "    is_feature_section = False\n",
    "\n",
    "    for para in doc.paragraphs:\n",
    "        text = para.text.strip()\n",
    "\n",
    "        # 開始提取 Features 區塊\n",
    "        if text.lower() == \"features:\":\n",
    "            is_feature_section = True\n",
    "            continue\n",
    "\n",
    "        # 結束 Features 區塊\n",
    "        if is_feature_section and (text.lower().startswith(\"version\") or text.lower().startswith(\"release date\") or not text):\n",
    "            break\n",
    "\n",
    "        # 提取並清理 Features\n",
    "        if is_feature_section and text:\n",
    "            clean_text = text.replace(\"??\", \"\").strip()\n",
    "            features_list.append(clean_text)\n",
    "\n",
    "    return features_list"
   ]
  },
  {
   "cell_type": "markdown",
   "id": "d85b7bbd",
   "metadata": {},
   "source": [
    "#### 文本處理"
   ]
  },
  {
   "cell_type": "code",
   "execution_count": 9,
   "id": "94a11de7",
   "metadata": {},
   "outputs": [],
   "source": [
    "# ✅ Step 2: 文本前處理（小寫化、標點移除、詞形還原）\n",
    "def preprocess_text(text):\n",
    "\n",
    "    text = re.sub(r'\\[\\w+\\]', '', text)  # 移除方括号内的字母或数字\n",
    "    \n",
    "    # 处理特定的缩写，防止它们转换成小写后丢失字母\n",
    "    text = re.sub(r'\\bSMS\\b', '[SMS]', text)  # 替换 SMS 为 [SMS]\n",
    "    text = re.sub(r'\\bMMS\\b', '[MMS]', text)  # 替换 MMS 为 [MMS]\n",
    "    \n",
    "    text = re.sub(r'\\bWi-Fi\\b', 'wi_fi', text)  # 保留 wi-fi\n",
    "    text = re.sub(r'\\b802\\.1x\\b', '802_1X', text)  # 保留 802.1x\n",
    "\n",
    "    # 在转换为小写并移除标点符号时，保留我们替换的缩写\n",
    "    text = re.sub(r'[^\\w\\s\\[\\]]', ' ', text.lower())  # 转小写并移除标点符号，保留方括号\n",
    "\n",
    "    text = re.sub(r'\\s+', ' ', text).strip()  # 移除多余空白\n",
    "    text = re.sub(r'\\bapps?\\b', 'application', text)\n",
    "    text = re.sub(r'\\bapplication\\b', 'application', text)\n",
    "    \n",
    "    # 恢复之前替换的缩写\n",
    "    text = re.sub(r'\\[SMS\\]', 'sms', text)\n",
    "    text = re.sub(r'\\[MMS\\]', 'mms', text)\n",
    "\n",
    "    words = text.split()\n",
    "\n",
    "    # 詞形還原\n",
    "    words = [lemmatizer.lemmatize(word, wordnet.NOUN) for word in words]\n",
    "\n",
    "    return \" \".join(words)"
   ]
  },
  {
   "cell_type": "markdown",
   "id": "3bcdc19c",
   "metadata": {},
   "source": [
    "#### 正式計算"
   ]
  },
  {
   "cell_type": "code",
   "execution_count": 14,
   "id": "c5d364e6",
   "metadata": {},
   "outputs": [],
   "source": [
    "# ✅ Step 3: 計算 TF-IDF 分數\n",
    "def calculate_tfidf(features_list):\n",
    "    processed_features = [preprocess_text(feature) for feature in features_list]\n",
    "\n",
    "    # 計算 TF-IDF\n",
    "    vectorizer = TfidfVectorizer(stop_words=ALL_STOP_WORDS) \n",
    "    tfidf_matrix = vectorizer.fit_transform(processed_features)\n",
    "\n",
    "    # 轉換為 DataFrame\n",
    "    feature_names = vectorizer.get_feature_names_out()\n",
    "    tfidf_scores = tfidf_matrix.toarray().mean(axis=0)  # 平均 TF-IDF 分數\n",
    "    df_tfidf = pd.DataFrame({'Word': feature_names, 'TF-IDF Score': tfidf_scores})\n",
    "\n",
    "    # 按 TF-IDF 分數排序\n",
    "    df_tfidf_sorted = df_tfidf.sort_values(by='TF-IDF Score', ascending=False).reset_index(drop=True)\n",
    "    return df_tfidf_sorted"
   ]
  },
  {
   "cell_type": "markdown",
   "id": "44ee91d0",
   "metadata": {},
   "source": [
    "#### 修改版本、結果與存檔"
   ]
  },
  {
   "cell_type": "code",
   "execution_count": 203,
   "id": "b47e1334",
   "metadata": {},
   "outputs": [
    {
     "name": "stdout",
     "output_type": "stream",
     "text": [
      "\n",
      "🔹 前 10 個最高 TF-IDF 值的詞語：\n",
      "        Word  TF-IDF Score\n",
      "0      nexus      0.105263\n",
      "1      audio      0.048417\n",
      "2     device      0.046311\n",
      "3      input      0.042909\n",
      "4   enhanced      0.041965\n",
      "..       ...           ...\n",
      "95  embedded      0.014184\n",
      "96     field      0.014184\n",
      "97      near      0.014184\n",
      "98       tag      0.014184\n",
      "99   sticker      0.014184\n",
      "\n",
      "[100 rows x 2 columns]\n",
      "CSV 文件已儲存至: C:/Users/bubbl/Desktop/TF-IDF結果/Done_new/tfidf_scores-2.3.csv\n"
     ]
    }
   ],
   "source": [
    "# ✅ 主程式：執行流程\n",
    "file_path = 'C:/Users/bubbl/Desktop/爬蟲結果/待分析/2.3_features.docx'  # 更新為你的檔案路徑\n",
    "features_list = extract_features_from_docx(file_path)\n",
    "df_tfidf_sorted = calculate_tfidf(features_list)\n",
    "\n",
    "# ✅ 顯示前 10 個最高 TF-IDF 分數的詞語\n",
    "print(\"\\n🔹 前 10 個最高 TF-IDF 值的詞語：\")\n",
    "print(df_tfidf_sorted.head(100))\n",
    "\n",
    "# 轉為 DataFrame 並存回 CSV\n",
    "output_path = \"C:/Users/bubbl/Desktop/TF-IDF結果/Done_new/tfidf_scores-2.3.csv\"  # 替換成你要存放的實際路徑\n",
    "df_tfidf_sorted.to_csv(output_path, index=False)\n",
    "\n",
    "print(f\"CSV 文件已儲存至: {output_path}\")"
   ]
  },
  {
   "cell_type": "markdown",
   "id": "1beffe18",
   "metadata": {},
   "source": [
    "#### 爬蟲2 "
   ]
  },
  {
   "cell_type": "code",
   "execution_count": 80,
   "id": "2284c44a",
   "metadata": {},
   "outputs": [
    {
     "name": "stdout",
     "output_type": "stream",
     "text": [
      "\n",
      "🎯 你選擇的版本是：3.2.6\n",
      "✅ 資料已成功儲存至 C:\\Users\\bubbl\\Desktop\\爬蟲結果\\3.2.6_features.docx\n"
     ]
    }
   ],
   "source": [
    "import requests\n",
    "import os\n",
    "from bs4 import BeautifulSoup\n",
    "from docx import Document\n",
    "\n",
    "# 目標 Wikipedia 頁面\n",
    "url = \"https://en.wikipedia.org/wiki/Android_version_history\"\n",
    "headers = {\"User-Agent\": \"Mozilla/5.0\"}  # 避免被拒絕訪問\n",
    "response = requests.get(url, headers=headers)\n",
    "soup = BeautifulSoup(response.text, \"html.parser\")\n",
    "\n",
    "# ✅ 使用者輸入大版本號，例如 \"4.4\"\n",
    "base_version = input(\"請輸入要抓取的 Android 版本（如 1.0, 4.4 等）：\").strip()\n",
    "\n",
    "# 找到所有 \"wikitable\" 表格\n",
    "tables = soup.find_all(\"table\", {\"class\": \"wikitable\"})\n",
    "\n",
    "# 儲存所有匹配的版本\n",
    "matched_versions = {}\n",
    "\n",
    "# 遍歷所有表格\n",
    "for table in tables:\n",
    "    heading = table.find_previous([\"h2\", \"h3\",\"h4\"])  # 找到表格前面的標題\n",
    "    version_title = heading.get_text(strip=True).replace(\"[edit]\", \"\") if heading else \"Unknown Version\"\n",
    "\n",
    "    rows = table.find_all(\"tr\")\n",
    "    for row in rows[1:]:  # 跳過表頭\n",
    "        cols = row.find_all(\"td\")\n",
    "        if len(cols) >= 3:  # 確保有 Version, Release Date, Features\n",
    "            version = cols[0].get_text(strip=True)\n",
    "\n",
    "            # ✅ 只抓取以 base_version 開頭的版本（如 4.4、4.4.1、4.4.2）\n",
    "            if version.startswith(base_version):\n",
    "                matched_versions[version] = row  # 存入匹配的版本\n",
    "\n",
    "# ✅ 如果沒有匹配的版本，顯示錯誤訊息\n",
    "if not matched_versions:\n",
    "    print(f\"❌ 找不到版本：{base_version}\")\n",
    "    exit()\n",
    "\n",
    "# ✅ 如果有多個匹配的版本，讓使用者選擇\n",
    "if len(matched_versions) > 1:\n",
    "    print(\"\\n找到以下版本，請選擇：\")\n",
    "    version_list = list(matched_versions.keys())\n",
    "    for i, v in enumerate(version_list):\n",
    "        print(f\"{i + 1}. {v}\")\n",
    "\n",
    "    while True:\n",
    "        try:\n",
    "            choice = int(input(\"請輸入對應的數字：\"))\n",
    "            if 1 <= choice <= len(version_list):\n",
    "                target_version = version_list[choice - 1]\n",
    "                break\n",
    "            else:\n",
    "                print(\"❌ 輸入錯誤，請輸入正確的數字！\")\n",
    "        except ValueError:\n",
    "            print(\"❌ 請輸入數字！\")\n",
    "else:\n",
    "    # 只有一個匹配版本，直接選取\n",
    "    target_version = list(matched_versions.keys())[0]\n",
    "\n",
    "# ✅ 解析選定的版本資料\n",
    "print(f\"\\n🎯 你選擇的版本是：{target_version}\")\n",
    "selected_row = matched_versions[target_version]\n",
    "cols = selected_row.find_all(\"td\")\n",
    "release_date = cols[1].get_text(strip=True)\n",
    "\n",
    "# 處理 Features 欄位\n",
    "feature_column = cols[2]\n",
    "features_list = [li.get_text(strip=True) for li in feature_column.find_all(\"li\")]\n",
    "if not features_list:\n",
    "    features_list = [feature_column.get_text(strip=True)]  # 如果沒有 <li>，直接取文字\n",
    "\n",
    "# ✅ 儲存到 DOCX\n",
    "doc = Document()\n",
    "doc.add_heading(f\"Android Version: {target_version}\", level=1)\n",
    "doc.add_paragraph(f\"Release Date: {release_date}\")\n",
    "doc.add_paragraph(\"Features:\")\n",
    "\n",
    "for feature in features_list:\n",
    "    doc.add_paragraph(f\"- {feature}\", style='List Bullet')\n",
    "\n",
    "# ✅ 設定存檔路徑\n",
    "save_directory = r\"C:\\Users\\bubbl\\Desktop\\爬蟲結果\"\n",
    "os.makedirs(save_directory, exist_ok=True)\n",
    "file_name = f\"{target_version.replace(' ', '_')}_features.docx\" \n",
    "output_path = os.path.join(save_directory, file_name)\n",
    "\n",
    "# ✅ 儲存 DOCX 檔案\n",
    "doc.save(output_path)\n",
    "\n",
    "print(f\"✅ 資料已成功儲存至 {output_path}\")\n"
   ]
  },
  {
   "cell_type": "code",
   "execution_count": null,
   "id": "945aea0d",
   "metadata": {},
   "outputs": [],
   "source": []
  }
 ],
 "metadata": {
  "kernelspec": {
   "display_name": "Python 3",
   "language": "python",
   "name": "python3"
  },
  "language_info": {
   "codemirror_mode": {
    "name": "ipython",
    "version": 3
   },
   "file_extension": ".py",
   "mimetype": "text/x-python",
   "name": "python",
   "nbconvert_exporter": "python",
   "pygments_lexer": "ipython3",
   "version": "3.10.11"
  }
 },
 "nbformat": 4,
 "nbformat_minor": 5
}
